{
 "cells": [
  {
   "cell_type": "code",
   "execution_count": 1,
   "metadata": {},
   "outputs": [],
   "source": [
    "#import dependencies\n",
    "import numpy as np\n",
    "import pandas as pd\n",
    "import matplotlib.pyplot as plt\n",
    "import scipy.stats as stats\n",
    "\n",
    "#import commuter csvs\n",
    "county_commute_data = pd.read_csv(\"..\\Resources\\county_commute_data.csv\")\n",
    "other_state_commute_data = pd.read_csv(\"..\\Resources\\other_state_commute_data.csv\")"
   ]
  },
  {
   "cell_type": "markdown",
   "metadata": {},
   "source": [
    "## MO Tables & Graphs\n",
    "\n",
    "### MO Commute Overview"
   ]
  },
  {
   "cell_type": "code",
   "execution_count": 2,
   "metadata": {},
   "outputs": [
    {
     "data": {
      "text/html": [
       "<div>\n",
       "<style scoped>\n",
       "    .dataframe tbody tr th:only-of-type {\n",
       "        vertical-align: middle;\n",
       "    }\n",
       "\n",
       "    .dataframe tbody tr th {\n",
       "        vertical-align: top;\n",
       "    }\n",
       "\n",
       "    .dataframe thead th {\n",
       "        text-align: right;\n",
       "    }\n",
       "</style>\n",
       "<table border=\"1\" class=\"dataframe\">\n",
       "  <thead>\n",
       "    <tr style=\"text-align: right;\">\n",
       "      <th></th>\n",
       "      <th>Total Population</th>\n",
       "      <th>Total Commuters</th>\n",
       "      <th>Commuter %</th>\n",
       "    </tr>\n",
       "    <tr>\n",
       "      <th>State</th>\n",
       "      <th></th>\n",
       "      <th></th>\n",
       "      <th></th>\n",
       "    </tr>\n",
       "  </thead>\n",
       "  <tbody>\n",
       "    <tr>\n",
       "      <th>Missouri</th>\n",
       "      <td>6059651.0</td>\n",
       "      <td>2803637.0</td>\n",
       "      <td>46.267302</td>\n",
       "    </tr>\n",
       "  </tbody>\n",
       "</table>\n",
       "</div>"
      ],
      "text/plain": [
       "          Total Population  Total Commuters  Commuter %\n",
       "State                                                  \n",
       "Missouri         6059651.0        2803637.0   46.267302"
      ]
     },
     "execution_count": 2,
     "metadata": {},
     "output_type": "execute_result"
    }
   ],
   "source": [
    "#calculate total population, total commuters, and commuter %\n",
    "MO_total_pop = county_commute_data[\"Total Population\"].sum()\n",
    "MO_total_commuters = county_commute_data[\"Total Commuters\"].sum()\n",
    "MO_commuter_perc = MO_total_commuters / MO_total_pop * 100\n",
    "\n",
    "#create MO commute overview table\n",
    "MO_pop_overview = pd.DataFrame([{\"State\": \"Missouri\", \"Total Population\": MO_total_pop, \n",
    "                                 \"Total Commuters\": MO_total_commuters, \"Commuter %\": MO_commuter_perc}])\n",
    "#table formatting\n",
    "MO_pop_overview = MO_pop_overview.set_index(\"State\")\n",
    "MO_pop_overview = MO_pop_overview[[\"Total Population\", \"Total Commuters\", \"Commuter %\"]]\n",
    "\n",
    "MO_pop_overview"
   ]
  },
  {
   "cell_type": "markdown",
   "metadata": {},
   "source": [
    "### MO & non-MO Metro Areas Commute Overview"
   ]
  },
  {
   "cell_type": "code",
   "execution_count": 5,
   "metadata": {},
   "outputs": [
    {
     "data": {
      "text/html": [
       "<div>\n",
       "<style scoped>\n",
       "    .dataframe tbody tr th:only-of-type {\n",
       "        vertical-align: middle;\n",
       "    }\n",
       "\n",
       "    .dataframe tbody tr th {\n",
       "        vertical-align: top;\n",
       "    }\n",
       "\n",
       "    .dataframe thead th {\n",
       "        text-align: right;\n",
       "    }\n",
       "</style>\n",
       "<table border=\"1\" class=\"dataframe\">\n",
       "  <thead>\n",
       "    <tr style=\"text-align: right;\">\n",
       "      <th></th>\n",
       "      <th>Total Population</th>\n",
       "      <th>Total Commuters</th>\n",
       "      <th>Commuter %</th>\n",
       "    </tr>\n",
       "    <tr>\n",
       "      <th>State</th>\n",
       "      <th></th>\n",
       "      <th></th>\n",
       "      <th></th>\n",
       "    </tr>\n",
       "  </thead>\n",
       "  <tbody>\n",
       "    <tr>\n",
       "      <th>Missouri &amp; non-MO Metro Counties</th>\n",
       "      <td>7541282.0</td>\n",
       "      <td>3517205.0</td>\n",
       "      <td>46.639351</td>\n",
       "    </tr>\n",
       "  </tbody>\n",
       "</table>\n",
       "</div>"
      ],
      "text/plain": [
       "                                  Total Population  Total Commuters  \\\n",
       "State                                                                 \n",
       "Missouri & non-MO Metro Counties         7541282.0        3517205.0   \n",
       "\n",
       "                                  Commuter %  \n",
       "State                                         \n",
       "Missouri & non-MO Metro Counties   46.639351  "
      ]
     },
     "execution_count": 5,
     "metadata": {},
     "output_type": "execute_result"
    }
   ],
   "source": [
    "#append non-MO county data to MO county data\n",
    "all_commute_data = county_commute_data.append(other_state_commute_data)\n",
    "\n",
    "#calculate total population, total commuters, and commuter %\n",
    "all_total_pop = all_commute_data[\"Total Population\"].sum()\n",
    "all_total_commuters = all_commute_data[\"Total Commuters\"].sum()\n",
    "all_commuter_perc = all_total_commuters / all_total_pop * 100\n",
    "\n",
    "#create MO commute overview table with non-MO metro areas added\n",
    "all_pop_overview = pd.DataFrame([{\"State\": \"Missouri & non-MO Metro Counties\", \"Total Population\": all_total_pop, \n",
    "                                 \"Total Commuters\": all_total_commuters, \"Commuter %\": all_commuter_perc}])\n",
    "#table formatting\n",
    "all_pop_overview = all_pop_overview.set_index(\"State\")\n",
    "all_pop_overview = all_pop_overview[[\"Total Population\", \"Total Commuters\", \"Commuter %\"]]\n",
    "\n",
    "all_pop_overview"
   ]
  },
  {
   "cell_type": "markdown",
   "metadata": {},
   "source": [
    "### MO Commute Type Breakdown"
   ]
  },
  {
   "cell_type": "code",
   "execution_count": 7,
   "metadata": {},
   "outputs": [
    {
     "data": {
      "text/html": [
       "<div>\n",
       "<style scoped>\n",
       "    .dataframe tbody tr th:only-of-type {\n",
       "        vertical-align: middle;\n",
       "    }\n",
       "\n",
       "    .dataframe tbody tr th {\n",
       "        vertical-align: top;\n",
       "    }\n",
       "\n",
       "    .dataframe thead th {\n",
       "        text-align: right;\n",
       "    }\n",
       "</style>\n",
       "<table border=\"1\" class=\"dataframe\">\n",
       "  <thead>\n",
       "    <tr style=\"text-align: right;\">\n",
       "      <th></th>\n",
       "      <th>Solo Commuters</th>\n",
       "      <th>Solo Commuter %</th>\n",
       "      <th>Carpoolers</th>\n",
       "      <th>Carpooler %</th>\n",
       "      <th>Public Transit</th>\n",
       "      <th>Public Transit %</th>\n",
       "      <th>Walking</th>\n",
       "      <th>Walking %</th>\n",
       "      <th>Other Transit</th>\n",
       "      <th>Other Transit %</th>\n",
       "    </tr>\n",
       "    <tr>\n",
       "      <th>State</th>\n",
       "      <th></th>\n",
       "      <th></th>\n",
       "      <th></th>\n",
       "      <th></th>\n",
       "      <th></th>\n",
       "      <th></th>\n",
       "      <th></th>\n",
       "      <th></th>\n",
       "      <th></th>\n",
       "      <th></th>\n",
       "    </tr>\n",
       "  </thead>\n",
       "  <tbody>\n",
       "    <tr>\n",
       "      <th>Missouri</th>\n",
       "      <td>2288917.0</td>\n",
       "      <td>81.64099</td>\n",
       "      <td>255260.0</td>\n",
       "      <td>9.104602</td>\n",
       "      <td>41741.0</td>\n",
       "      <td>1.488816</td>\n",
       "      <td>53557.0</td>\n",
       "      <td>1.910269</td>\n",
       "      <td>35930.0</td>\n",
       "      <td>1.28155</td>\n",
       "    </tr>\n",
       "  </tbody>\n",
       "</table>\n",
       "</div>"
      ],
      "text/plain": [
       "          Solo Commuters  Solo Commuter %  Carpoolers  Carpooler %  \\\n",
       "State                                                                \n",
       "Missouri       2288917.0         81.64099    255260.0     9.104602   \n",
       "\n",
       "          Public Transit  Public Transit %  Walking  Walking %  Other Transit  \\\n",
       "State                                                                           \n",
       "Missouri         41741.0          1.488816  53557.0   1.910269        35930.0   \n",
       "\n",
       "          Other Transit %  \n",
       "State                      \n",
       "Missouri          1.28155  "
      ]
     },
     "execution_count": 7,
     "metadata": {},
     "output_type": "execute_result"
    }
   ],
   "source": [
    "#calculate totals for commute types\n",
    "MO_solo = county_commute_data[\"Solo Commuters\"].sum()\n",
    "MO_carpool = county_commute_data[\"Carpoolers\"].sum()\n",
    "MO_public = county_commute_data[\"Public Transit\"].sum()\n",
    "MO_walk = county_commute_data[\"Walking\"].sum()\n",
    "MO_other = county_commute_data[\"Other Transit\"].sum()\n",
    "\n",
    "#calculate %s for each commute type\n",
    "MO_solo_perc = MO_solo / MO_pop_overview[\"Total Commuters\"][\"Missouri\"] * 100\n",
    "MO_carpool_perc = MO_carpool / MO_pop_overview[\"Total Commuters\"][\"Missouri\"] * 100\n",
    "MO_public_perc = MO_public / MO_pop_overview[\"Total Commuters\"][\"Missouri\"] * 100\n",
    "MO_walk_perc = MO_walk / MO_pop_overview[\"Total Commuters\"][\"Missouri\"] * 100\n",
    "MO_other_perc = MO_other / MO_pop_overview[\"Total Commuters\"][\"Missouri\"] * 100\n",
    "\n",
    "#create MO commute types table\n",
    "MO_commute_df = pd.DataFrame([{\"State\": \"Missouri\", \"Solo Commuters\": MO_solo, \"Solo Commuter %\": MO_solo_perc, \n",
    "                               \"Carpoolers\": MO_carpool, \"Carpooler %\": MO_carpool_perc, \n",
    "                               \"Public Transit\": MO_public, \"Public Transit %\": MO_public_perc, \n",
    "                               \"Walking\": MO_walk, \"Walking %\": MO_walk_perc, \n",
    "                               \"Other Transit\": MO_other, \"Other Transit %\": MO_other_perc}])\n",
    "\n",
    "#table formatting\n",
    "MO_commute_df = MO_commute_df.set_index(\"State\")\n",
    "MO_commute_df = MO_commute_df[[\"Solo Commuters\", \"Solo Commuter %\", \"Carpoolers\", \"Carpooler %\", \n",
    "                               \"Public Transit\", \"Public Transit %\", \"Walking\", \"Walking %\", \n",
    "                               \"Other Transit\", \"Other Transit %\"]]\n",
    "MO_commute_df"
   ]
  },
  {
   "cell_type": "markdown",
   "metadata": {},
   "source": [
    "### MO Commute Type Pie Graph"
   ]
  },
  {
   "cell_type": "code",
   "execution_count": 9,
   "metadata": {},
   "outputs": [
    {
     "data": {
      "image/png": "[encoded data removed]",
      "text/plain": [
       "<Figure size 432x288 with 1 Axes>"
      ]
     },
     "metadata": {},
     "output_type": "display_data"
    }
   ],
   "source": [
    "#create MO commute type graph\n",
    "MO_commute_plot = plt.figure()\n",
    "MO_commutes = plt.subplot()\n",
    "\n",
    "#set list of commute types with %\n",
    "commute_type_percs = [\"Solo Commuter %\", \"Carpooler %\", \"Public Transit %\", \"Walking %\", \"Other Transit %\"]\n",
    "\n",
    "#set empty list for commute type %s\n",
    "MO_commute_type_percs = []\n",
    "\n",
    "#fill commute type %s list\n",
    "for commute_type in commute_type_percs:\n",
    "    MO_commute_type_percs.append(MO_commute_df[commute_type])\n",
    "    \n",
    "#plot commute type %s\n",
    "MO_commutes.pie(MO_commute_type_percs, startangle = 200, autopct='%1.0f%%', pctdistance=1.2, wedgeprops = {'linewidth':.5,'edgecolor':'black'})\n",
    "#formatting\n",
    "plt.legend(labels = [\"Solo Commuter\", \"Carpooler\", \"Public Transit\", \"Walking\", \"Other Transit\"], loc=\"lower right\")\n",
    "plt.axis(\"equal\")\n",
    "plt.title(\"Missouri Commuting Types\")\n",
    "plt.tight_layout()\n",
    "\n",
    "#export figure\n",
    "MO_commute_plot.savefig(\"..\\Output\\MO Commuting Types Legend.png\", bbox_inches=\"tight\")"
   ]
  },
  {
   "cell_type": "markdown",
   "metadata": {},
   "source": [
    "### MO & non-MO Metro Areas Commute Type Breakdown"
   ]
  },
  {
   "cell_type": "code",
   "execution_count": 10,
   "metadata": {},
   "outputs": [
    {
     "data": {
      "text/html": [
       "<div>\n",
       "<style scoped>\n",
       "    .dataframe tbody tr th:only-of-type {\n",
       "        vertical-align: middle;\n",
       "    }\n",
       "\n",
       "    .dataframe tbody tr th {\n",
       "        vertical-align: top;\n",
       "    }\n",
       "\n",
       "    .dataframe thead th {\n",
       "        text-align: right;\n",
       "    }\n",
       "</style>\n",
       "<table border=\"1\" class=\"dataframe\">\n",
       "  <thead>\n",
       "    <tr style=\"text-align: right;\">\n",
       "      <th></th>\n",
       "      <th>Solo Commuters</th>\n",
       "      <th>Solo Commuter %</th>\n",
       "      <th>Carpoolers</th>\n",
       "      <th>Carpooler %</th>\n",
       "      <th>Public Transit</th>\n",
       "      <th>Public Transit %</th>\n",
       "      <th>Walking</th>\n",
       "      <th>Walking %</th>\n",
       "      <th>Other Transit</th>\n",
       "      <th>Other Transit %</th>\n",
       "    </tr>\n",
       "    <tr>\n",
       "      <th>State</th>\n",
       "      <th></th>\n",
       "      <th></th>\n",
       "      <th></th>\n",
       "      <th></th>\n",
       "      <th></th>\n",
       "      <th></th>\n",
       "      <th></th>\n",
       "      <th></th>\n",
       "      <th></th>\n",
       "      <th></th>\n",
       "    </tr>\n",
       "  </thead>\n",
       "  <tbody>\n",
       "    <tr>\n",
       "      <th>Missouri &amp; non-MO Metro Counties</th>\n",
       "      <td>2888167.0</td>\n",
       "      <td>82.115401</td>\n",
       "      <td>312705.0</td>\n",
       "      <td>8.890724</td>\n",
       "      <td>51236.0</td>\n",
       "      <td>1.456725</td>\n",
       "      <td>62256.0</td>\n",
       "      <td>1.770042</td>\n",
       "      <td>43108.0</td>\n",
       "      <td>1.225632</td>\n",
       "    </tr>\n",
       "  </tbody>\n",
       "</table>\n",
       "</div>"
      ],
      "text/plain": [
       "                                  Solo Commuters  Solo Commuter %  Carpoolers  \\\n",
       "State                                                                           \n",
       "Missouri & non-MO Metro Counties       2888167.0        82.115401    312705.0   \n",
       "\n",
       "                                  Carpooler %  Public Transit  \\\n",
       "State                                                           \n",
       "Missouri & non-MO Metro Counties     8.890724         51236.0   \n",
       "\n",
       "                                  Public Transit %  Walking  Walking %  \\\n",
       "State                                                                    \n",
       "Missouri & non-MO Metro Counties          1.456725  62256.0   1.770042   \n",
       "\n",
       "                                  Other Transit  Other Transit %  \n",
       "State                                                             \n",
       "Missouri & non-MO Metro Counties        43108.0         1.225632  "
      ]
     },
     "execution_count": 10,
     "metadata": {},
     "output_type": "execute_result"
    }
   ],
   "source": [
    "#calculate totals for commute types\n",
    "all_solo = all_commute_data[\"Solo Commuters\"].sum()\n",
    "all_carpool = all_commute_data[\"Carpoolers\"].sum()\n",
    "all_public = all_commute_data[\"Public Transit\"].sum()\n",
    "all_walk = all_commute_data[\"Walking\"].sum()\n",
    "all_other = all_commute_data[\"Other Transit\"].sum()\n",
    "\n",
    "#calculate %s for each commute type\n",
    "all_solo_perc = all_solo / all_pop_overview[\"Total Commuters\"][\"Missouri & non-MO Metro Counties\"] * 100\n",
    "all_carpool_perc = all_carpool / all_pop_overview[\"Total Commuters\"][\"Missouri & non-MO Metro Counties\"] * 100\n",
    "all_public_perc = all_public / all_pop_overview[\"Total Commuters\"][\"Missouri & non-MO Metro Counties\"] * 100\n",
    "all_walk_perc = all_walk / all_pop_overview[\"Total Commuters\"][\"Missouri & non-MO Metro Counties\"] * 100\n",
    "all_other_perc = all_other / all_pop_overview[\"Total Commuters\"][\"Missouri & non-MO Metro Counties\"] * 100\n",
    "\n",
    "#create MO & non-MO metro counties commute types table\n",
    "all_commute_df = pd.DataFrame([{\"State\": \"Missouri & non-MO Metro Counties\", \n",
    "                               \"Solo Commuters\": all_solo, \"Solo Commuter %\": all_solo_perc, \n",
    "                               \"Carpoolers\": all_carpool, \"Carpooler %\": all_carpool_perc, \n",
    "                               \"Public Transit\": all_public, \"Public Transit %\": all_public_perc, \n",
    "                               \"Walking\": all_walk, \"Walking %\": all_walk_perc, \n",
    "                               \"Other Transit\": all_other, \"Other Transit %\": all_other_perc}])\n",
    "\n",
    "#table formatting\n",
    "all_commute_df = all_commute_df.set_index(\"State\")\n",
    "all_commute_df = all_commute_df[[\"Solo Commuters\", \"Solo Commuter %\", \"Carpoolers\", \"Carpooler %\", \n",
    "                               \"Public Transit\", \"Public Transit %\", \"Walking\", \"Walking %\", \n",
    "                               \"Other Transit\", \"Other Transit %\"]]\n",
    "all_commute_df"
   ]
  },
  {
   "cell_type": "markdown",
   "metadata": {},
   "source": [
    "### MO & non-MO Metro Areas Commute Type Pie Graph"
   ]
  },
  {
   "cell_type": "code",
   "execution_count": 17,
   "metadata": {},
   "outputs": [
    {
     "data": {
      "image/png": "[encoded data removed]",
      "text/plain": [
       "<Figure size 432x288 with 1 Axes>"
      ]
     },
     "metadata": {},
     "output_type": "display_data"
    }
   ],
   "source": [
    "#create MO commute type graph\n",
    "all_commute_plot = plt.figure()\n",
    "all_commutes = plt.subplot()\n",
    "\n",
    "#set empty list for commute type %s\n",
    "all_commute_type_percs = []\n",
    "\n",
    "#fill commute type %s list\n",
    "for commute_type in commute_type_percs:\n",
    "    all_commute_type_percs.append(all_commute_df[commute_type])\n",
    "\n",
    "#plot commute type %s\n",
    "all_commutes.pie(all_commute_type_percs, startangle = 200, autopct='%1.0f%%', pctdistance=1.2, wedgeprops = {'linewidth':.5,'edgecolor':'black'})\n",
    "#formatting\n",
    "plt.legend(labels = [\"Solo Commuter\", \"Carpooler\", \"Public Transit\", \"Walking\", \"Other Transit\"], loc=\"lower right\")\n",
    "plt.axis(\"equal\")\n",
    "plt.title(\"Missouri & Non-MO Metro County Commuting Types\")\n",
    "plt.tight_layout()\n",
    "\n",
    "#export figure\n",
    "all_commute_plot.savefig(\"..\\Output\\MO & Non-MO Metro Areas Commuting Types Legend.png\", bbox_inches=\"tight\")"
   ]
  },
  {
   "cell_type": "markdown",
   "metadata": {},
   "source": [
    "### Commute Type Comparison with & without non-MO Metro Counties"
   ]
  },
  {
   "cell_type": "code",
   "execution_count": 13,
   "metadata": {},
   "outputs": [
    {
     "data": {
      "text/html": [
       "<div>\n",
       "<style scoped>\n",
       "    .dataframe tbody tr th:only-of-type {\n",
       "        vertical-align: middle;\n",
       "    }\n",
       "\n",
       "    .dataframe tbody tr th {\n",
       "        vertical-align: top;\n",
       "    }\n",
       "\n",
       "    .dataframe thead th {\n",
       "        text-align: right;\n",
       "    }\n",
       "</style>\n",
       "<table border=\"1\" class=\"dataframe\">\n",
       "  <thead>\n",
       "    <tr style=\"text-align: right;\">\n",
       "      <th></th>\n",
       "      <th>Solo Commuters</th>\n",
       "      <th>Solo Commuter %</th>\n",
       "      <th>Carpoolers</th>\n",
       "      <th>Carpooler %</th>\n",
       "      <th>Public Transit</th>\n",
       "      <th>Public Transit %</th>\n",
       "      <th>Walking</th>\n",
       "      <th>Walking %</th>\n",
       "      <th>Other Transit</th>\n",
       "      <th>Other Transit %</th>\n",
       "    </tr>\n",
       "    <tr>\n",
       "      <th>State</th>\n",
       "      <th></th>\n",
       "      <th></th>\n",
       "      <th></th>\n",
       "      <th></th>\n",
       "      <th></th>\n",
       "      <th></th>\n",
       "      <th></th>\n",
       "      <th></th>\n",
       "      <th></th>\n",
       "      <th></th>\n",
       "    </tr>\n",
       "  </thead>\n",
       "  <tbody>\n",
       "    <tr>\n",
       "      <th>Missouri</th>\n",
       "      <td>2288917.0</td>\n",
       "      <td>81.640990</td>\n",
       "      <td>255260.0</td>\n",
       "      <td>9.104602</td>\n",
       "      <td>41741.0</td>\n",
       "      <td>1.488816</td>\n",
       "      <td>53557.0</td>\n",
       "      <td>1.910269</td>\n",
       "      <td>35930.0</td>\n",
       "      <td>1.281550</td>\n",
       "    </tr>\n",
       "    <tr>\n",
       "      <th>Missouri &amp; non-MO Metro Counties</th>\n",
       "      <td>2888167.0</td>\n",
       "      <td>82.115401</td>\n",
       "      <td>312705.0</td>\n",
       "      <td>8.890724</td>\n",
       "      <td>51236.0</td>\n",
       "      <td>1.456725</td>\n",
       "      <td>62256.0</td>\n",
       "      <td>1.770042</td>\n",
       "      <td>43108.0</td>\n",
       "      <td>1.225632</td>\n",
       "    </tr>\n",
       "  </tbody>\n",
       "</table>\n",
       "</div>"
      ],
      "text/plain": [
       "                                  Solo Commuters  Solo Commuter %  Carpoolers  \\\n",
       "State                                                                           \n",
       "Missouri                               2288917.0        81.640990    255260.0   \n",
       "Missouri & non-MO Metro Counties       2888167.0        82.115401    312705.0   \n",
       "\n",
       "                                  Carpooler %  Public Transit  \\\n",
       "State                                                           \n",
       "Missouri                             9.104602         41741.0   \n",
       "Missouri & non-MO Metro Counties     8.890724         51236.0   \n",
       "\n",
       "                                  Public Transit %  Walking  Walking %  \\\n",
       "State                                                                    \n",
       "Missouri                                  1.488816  53557.0   1.910269   \n",
       "Missouri & non-MO Metro Counties          1.456725  62256.0   1.770042   \n",
       "\n",
       "                                  Other Transit  Other Transit %  \n",
       "State                                                             \n",
       "Missouri                                35930.0         1.281550  \n",
       "Missouri & non-MO Metro Counties        43108.0         1.225632  "
      ]
     },
     "execution_count": 13,
     "metadata": {},
     "output_type": "execute_result"
    }
   ],
   "source": [
    "comparison = MO_commute_df.append(all_commute_df)\n",
    "comparison"
   ]
  },
  {
   "cell_type": "markdown",
   "metadata": {},
   "source": [
    "## ANOVA Statistical Analysis"
   ]
  },
  {
   "cell_type": "code",
   "execution_count": 14,
   "metadata": {},
   "outputs": [
    {
     "data": {
      "text/plain": [
       "F_onewayResult(statistic=array([0.2159623 , 0.28868294, 0.2174245 , 0.26402845, 0.22826648,\n",
       "       0.27721739, 0.23138504, 0.1051747 , 0.03678893, 0.15710562,\n",
       "       0.05318055, 0.09142478]), pvalue=array([0.64255868, 0.59156774, 0.64143586, 0.60784269, 0.6332507 ,\n",
       "       0.5990212 , 0.63094065, 0.74599085, 0.84805896, 0.69219054,\n",
       "       0.81781661, 0.76263767]))"
      ]
     },
     "execution_count": 14,
     "metadata": {},
     "output_type": "execute_result"
    }
   ],
   "source": [
    "anova_MO = stats.f_oneway(county_commute_data.iloc[:, 3:15], all_commute_data.iloc[:, 3:15])\n",
    "anova_MO\n"
   ]
  },
  {
   "cell_type": "markdown",
   "metadata": {},
   "source": [
    "### No significant differences in any category between all counties and only Missouri Counties"
   ]
  },
  {
   "cell_type": "code",
   "execution_count": null,
   "metadata": {},
   "outputs": [],
   "source": []
  }
 ],
 "metadata": {
  "kernelspec": {
   "display_name": "Python 3",
   "language": "python",
   "name": "python3"
  },
  "language_info": {
   "codemirror_mode": {
    "name": "ipython",
    "version": 3
   },
   "file_extension": ".py",
   "mimetype": "text/x-python",
   "name": "python",
   "nbconvert_exporter": "python",
   "pygments_lexer": "ipython3",
   "version": "3.6.5"
  }
 },
 "nbformat": 4,
 "nbformat_minor": 2
}
