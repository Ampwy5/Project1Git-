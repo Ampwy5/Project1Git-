{
 "cells": [
  {
   "cell_type": "code",
   "execution_count": 2,
   "metadata": {},
   "outputs": [],
   "source": [
    "#import dependencies\n",
    "import numpy as np\n",
    "import pandas as pd\n",
    "import matplotlib.pyplot as plt\n",
    "import gmaps\n",
    "import numpy as np\n",
    "import scipy.stats as stats\n",
    "from config import gkey\n",
    "\n",
    "#set gmaps settings\n",
    "gmaps.configure(api_key = gkey)\n",
    "\n",
    "#import metro area csvs\n",
    "other_state_commute_data = pd.read_csv(\"..\\Resources\\other_state_commute_data.csv\")\n",
    "metro_commute_data_MO = pd.read_csv(\"..\\Resources\\metro_commute_data_MO.csv\")"
   ]
  },
  {
   "cell_type": "markdown",
   "metadata": {},
   "source": [
    "## Create Metro Area Tables"
   ]
  },
  {
   "cell_type": "code",
   "execution_count": 3,
   "metadata": {
    "scrolled": false
   },
   "outputs": [],
   "source": [
    "#combine MO and non-MO metro county tables\n",
    "metro_commute_data = metro_commute_data_MO.append(other_state_commute_data)\n",
    "\n",
    "#locate data for each metro area\n",
    "KC_metro_data = metro_commute_data.loc[metro_commute_data[\"Metro Pole\"] == \"Kansas City\"]\n",
    "STL_metro_data = metro_commute_data.loc[metro_commute_data[\"Metro Pole\"] == \"St. Louis\"]\n",
    "SPR_metro_data = metro_commute_data.loc[metro_commute_data[\"Metro Pole\"] == \"Springfield\"]"
   ]
  },
  {
   "cell_type": "markdown",
   "metadata": {},
   "source": [
    "## Heat maps: Concentration of Commuters\n",
    "\n",
    "### Kansas City"
   ]
  },
  {
   "cell_type": "code",
   "execution_count": 4,
   "metadata": {},
   "outputs": [
    {
     "data": {
      "application/vnd.jupyter.widget-view+json": {
       "model_id": "190c7b7deb28458da2b9ae22fcb59119",
       "version_major": 2,
       "version_minor": 0
      },
      "text/plain": [
       "Figure(layout=FigureLayout(height='420px'))"
      ]
     },
     "metadata": {},
     "output_type": "display_data"
    }
   ],
   "source": [
    "##plot heatmap of # of commuters\n",
    "#set gmaps figure\n",
    "KC_commuter_fig = gmaps.figure()\n",
    "\n",
    "#set coordinates as locations\n",
    "KC_metro_locations = KC_metro_data[[\"Latitude\", \"Longitude\"]]\n",
    "\n",
    "#plot heat layer\n",
    "heat_layer = gmaps.heatmap_layer(KC_metro_locations, weights=KC_metro_data[\"Total Commuters\"], \n",
    "                                 dissipating=False, max_intensity=max(KC_metro_data[\"Total Commuters\"]),\n",
    "                                 point_radius = .333)\n",
    "\n",
    "#adjust heat layer setting to help with heatmap dissipating on zoom\n",
    "heat_layer.dissipating = False\n",
    "heat_layer.max_intensity = max(KC_metro_data[\"Total Commuters\"])\n",
    "heat_layer.point_radius = .333\n",
    "#add heat layer to figure\n",
    "KC_commuter_fig.add_layer(heat_layer)\n",
    "\n",
    "KC_commuter_fig"
   ]
  },
  {
   "cell_type": "markdown",
   "metadata": {},
   "source": [
    "### St. Louis"
   ]
  },
  {
   "cell_type": "code",
   "execution_count": 5,
   "metadata": {},
   "outputs": [
    {
     "data": {
      "application/vnd.jupyter.widget-view+json": {
       "model_id": "a4cbe52db041441d9a9dfbc24d664b7d",
       "version_major": 2,
       "version_minor": 0
      },
      "text/plain": [
       "Figure(layout=FigureLayout(height='420px'))"
      ]
     },
     "metadata": {},
     "output_type": "display_data"
    }
   ],
   "source": [
    "#set gmaps figure\n",
    "STL_commuter_fig = gmaps.figure()\n",
    "\n",
    "#set coordinates as locations\n",
    "STL_metro_locations = STL_metro_data[[\"Latitude\", \"Longitude\"]]\n",
    "\n",
    "#plot heat layer\n",
    "heat_layer = gmaps.heatmap_layer(STL_metro_locations, weights=STL_metro_data[\"Total Commuters\"], \n",
    "                                 dissipating=False, max_intensity=max(STL_metro_data[\"Total Commuters\"]),\n",
    "                                 point_radius = .333)\n",
    "\n",
    "#adjust heat layer setting to help with heatmap dissipating on zoom\n",
    "heat_layer.dissipating = False\n",
    "heat_layer.max_intensity = max(STL_metro_data[\"Total Commuters\"])\n",
    "heat_layer.point_radius = .333\n",
    "#add heat layer to figure\n",
    "STL_commuter_fig.add_layer(heat_layer)\n",
    "\n",
    "STL_commuter_fig"
   ]
  },
  {
   "cell_type": "markdown",
   "metadata": {},
   "source": [
    "### Springfield"
   ]
  },
  {
   "cell_type": "code",
   "execution_count": 6,
   "metadata": {},
   "outputs": [
    {
     "data": {
      "application/vnd.jupyter.widget-view+json": {
       "model_id": "c9589bb68af740bbbb24b2ca57717949",
       "version_major": 2,
       "version_minor": 0
      },
      "text/plain": [
       "Figure(layout=FigureLayout(height='420px'))"
      ]
     },
     "metadata": {},
     "output_type": "display_data"
    }
   ],
   "source": [
    "#set gmaps figure\n",
    "SPR_commuter_fig = gmaps.figure()\n",
    "\n",
    "#set coordinates as locations\n",
    "SPR_metro_locations = SPR_metro_data[[\"Latitude\", \"Longitude\"]]\n",
    "\n",
    "#plot heat layer\n",
    "heat_layer = gmaps.heatmap_layer(SPR_metro_locations, weights=SPR_metro_data[\"Total Commuters\"], \n",
    "                                 dissipating=False, max_intensity=max(SPR_metro_data[\"Total Commuters\"]),\n",
    "                                 point_radius = .333)\n",
    "\n",
    "#adjust heat layer setting to help with heatmap dissipating on zoom\n",
    "heat_layer.dissipating = False\n",
    "heat_layer.max_intensity = max(SPR_metro_data[\"Total Commuters\"])\n",
    "heat_layer.point_radius = .333\n",
    "#add heat layer to figure\n",
    "SPR_commuter_fig.add_layer(heat_layer)\n",
    "\n",
    "SPR_commuter_fig"
   ]
  },
  {
   "cell_type": "markdown",
   "metadata": {},
   "source": [
    "## Metro Areas Tables\n",
    "\n",
    "\n",
    "### Metro Areas Commute Overview"
   ]
  },
  {
   "cell_type": "code",
   "execution_count": 7,
   "metadata": {},
   "outputs": [
    {
     "data": {
      "text/html": [
       "<div>\n",
       "<style scoped>\n",
       "    .dataframe tbody tr th:only-of-type {\n",
       "        vertical-align: middle;\n",
       "    }\n",
       "\n",
       "    .dataframe tbody tr th {\n",
       "        vertical-align: top;\n",
       "    }\n",
       "\n",
       "    .dataframe thead th {\n",
       "        text-align: right;\n",
       "    }\n",
       "</style>\n",
       "<table border=\"1\" class=\"dataframe\">\n",
       "  <thead>\n",
       "    <tr style=\"text-align: right;\">\n",
       "      <th></th>\n",
       "      <th>Total Metro Population</th>\n",
       "      <th>Total Commuters</th>\n",
       "      <th>Commuter %</th>\n",
       "    </tr>\n",
       "    <tr>\n",
       "      <th>City</th>\n",
       "      <th></th>\n",
       "      <th></th>\n",
       "      <th></th>\n",
       "    </tr>\n",
       "  </thead>\n",
       "  <tbody>\n",
       "    <tr>\n",
       "      <th>Kansas City</th>\n",
       "      <td>2070147.0</td>\n",
       "      <td>1016774.0</td>\n",
       "      <td>49.116029</td>\n",
       "    </tr>\n",
       "    <tr>\n",
       "      <th>St. Louis</th>\n",
       "      <td>2734868.0</td>\n",
       "      <td>1312846.0</td>\n",
       "      <td>48.003999</td>\n",
       "    </tr>\n",
       "    <tr>\n",
       "      <th>Springfield</th>\n",
       "      <td>452198.0</td>\n",
       "      <td>205386.0</td>\n",
       "      <td>45.419484</td>\n",
       "    </tr>\n",
       "  </tbody>\n",
       "</table>\n",
       "</div>"
      ],
      "text/plain": [
       "             Total Metro Population  Total Commuters  Commuter %\n",
       "City                                                            \n",
       "Kansas City               2070147.0        1016774.0   49.116029\n",
       "St. Louis                 2734868.0        1312846.0   48.003999\n",
       "Springfield                452198.0         205386.0   45.419484"
      ]
     },
     "execution_count": 7,
     "metadata": {},
     "output_type": "execute_result"
    }
   ],
   "source": [
    "#calculate total population, total commuters, and commuter % for each metro area\n",
    "KC_total_pop = KC_metro_data[\"Total Population\"].sum()\n",
    "KC_total_commuters = KC_metro_data[\"Total Commuters\"].sum()\n",
    "KC_commuter_perc = KC_total_commuters / KC_total_pop * 100\n",
    "\n",
    "STL_total_pop = STL_metro_data[\"Total Population\"].sum()\n",
    "STL_total_commuters = STL_metro_data[\"Total Commuters\"].sum()\n",
    "STL_commuter_perc = STL_total_commuters / STL_total_pop * 100\n",
    "\n",
    "SPR_total_pop = SPR_metro_data[\"Total Population\"].sum()\n",
    "SPR_total_commuters = SPR_metro_data[\"Total Commuters\"].sum()\n",
    "SPR_commuter_perc = SPR_total_commuters / SPR_total_pop * 100\n",
    "\n",
    "#create metro commute overview table\n",
    "metro_pop_df = pd.DataFrame([{\"City\": \"Kansas City\", \"Total Metro Population\": KC_total_pop, \n",
    "                              \"Total Commuters\": KC_total_commuters, \"Commuter %\": KC_commuter_perc}, \n",
    "                             {\"City\": \"St. Louis\", \"Total Metro Population\": STL_total_pop, \n",
    "                              \"Total Commuters\": STL_total_commuters, \"Commuter %\": STL_commuter_perc}, \n",
    "                             {\"City\": \"Springfield\", \"Total Metro Population\": SPR_total_pop, \n",
    "                              \"Total Commuters\": SPR_total_commuters, \"Commuter %\": SPR_commuter_perc}])\n",
    "\n",
    "#table formatting\n",
    "metro_pop_df = metro_pop_df.set_index(\"City\")\n",
    "metro_pop_df = metro_pop_df[[\"Total Metro Population\", \"Total Commuters\", \"Commuter %\"]]\n",
    "metro_pop_df"
   ]
  },
  {
   "cell_type": "markdown",
   "metadata": {},
   "source": [
    "### Metro Areas Commute Type Breakdown"
   ]
  },
  {
   "cell_type": "code",
   "execution_count": 8,
   "metadata": {},
   "outputs": [
    {
     "data": {
      "text/html": [
       "<div>\n",
       "<style scoped>\n",
       "    .dataframe tbody tr th:only-of-type {\n",
       "        vertical-align: middle;\n",
       "    }\n",
       "\n",
       "    .dataframe tbody tr th {\n",
       "        vertical-align: top;\n",
       "    }\n",
       "\n",
       "    .dataframe thead th {\n",
       "        text-align: right;\n",
       "    }\n",
       "</style>\n",
       "<table border=\"1\" class=\"dataframe\">\n",
       "  <thead>\n",
       "    <tr style=\"text-align: right;\">\n",
       "      <th></th>\n",
       "      <th>Solo Commuters</th>\n",
       "      <th>Solo Commuter %</th>\n",
       "      <th>Carpoolers</th>\n",
       "      <th>Carpooler %</th>\n",
       "      <th>Public Transit</th>\n",
       "      <th>Public Transit %</th>\n",
       "      <th>Walking</th>\n",
       "      <th>Walking %</th>\n",
       "      <th>Other Transit</th>\n",
       "      <th>Other Transit %</th>\n",
       "    </tr>\n",
       "    <tr>\n",
       "      <th>City</th>\n",
       "      <th></th>\n",
       "      <th></th>\n",
       "      <th></th>\n",
       "      <th></th>\n",
       "      <th></th>\n",
       "      <th></th>\n",
       "      <th></th>\n",
       "      <th></th>\n",
       "      <th></th>\n",
       "      <th></th>\n",
       "    </tr>\n",
       "  </thead>\n",
       "  <tbody>\n",
       "    <tr>\n",
       "      <th>Kansas City</th>\n",
       "      <td>848074.0</td>\n",
       "      <td>83.408309</td>\n",
       "      <td>86296.0</td>\n",
       "      <td>8.487235</td>\n",
       "      <td>10956.0</td>\n",
       "      <td>1.077526</td>\n",
       "      <td>13385.0</td>\n",
       "      <td>1.316418</td>\n",
       "      <td>10895.0</td>\n",
       "      <td>1.071526</td>\n",
       "    </tr>\n",
       "    <tr>\n",
       "      <th>St. Louis</th>\n",
       "      <td>1087571.0</td>\n",
       "      <td>82.840714</td>\n",
       "      <td>96867.0</td>\n",
       "      <td>7.378398</td>\n",
       "      <td>35540.0</td>\n",
       "      <td>2.707096</td>\n",
       "      <td>21171.0</td>\n",
       "      <td>1.612603</td>\n",
       "      <td>14627.0</td>\n",
       "      <td>1.114144</td>\n",
       "    </tr>\n",
       "    <tr>\n",
       "      <th>Springfield</th>\n",
       "      <td>167545.0</td>\n",
       "      <td>81.575667</td>\n",
       "      <td>20814.0</td>\n",
       "      <td>10.134089</td>\n",
       "      <td>967.0</td>\n",
       "      <td>0.470821</td>\n",
       "      <td>3952.0</td>\n",
       "      <td>1.924182</td>\n",
       "      <td>3420.0</td>\n",
       "      <td>1.665157</td>\n",
       "    </tr>\n",
       "  </tbody>\n",
       "</table>\n",
       "</div>"
      ],
      "text/plain": [
       "             Solo Commuters  Solo Commuter %  Carpoolers  Carpooler %  \\\n",
       "City                                                                    \n",
       "Kansas City        848074.0        83.408309     86296.0     8.487235   \n",
       "St. Louis         1087571.0        82.840714     96867.0     7.378398   \n",
       "Springfield        167545.0        81.575667     20814.0    10.134089   \n",
       "\n",
       "             Public Transit  Public Transit %  Walking  Walking %  \\\n",
       "City                                                                \n",
       "Kansas City         10956.0          1.077526  13385.0   1.316418   \n",
       "St. Louis           35540.0          2.707096  21171.0   1.612603   \n",
       "Springfield           967.0          0.470821   3952.0   1.924182   \n",
       "\n",
       "             Other Transit  Other Transit %  \n",
       "City                                         \n",
       "Kansas City        10895.0         1.071526  \n",
       "St. Louis          14627.0         1.114144  \n",
       "Springfield         3420.0         1.665157  "
      ]
     },
     "execution_count": 8,
     "metadata": {},
     "output_type": "execute_result"
    }
   ],
   "source": [
    "#calculate totals for commute types for each metro area\n",
    "KC_solo = KC_metro_data[\"Solo Commuters\"].sum()\n",
    "KC_carpool = KC_metro_data[\"Carpoolers\"].sum()\n",
    "KC_public = KC_metro_data[\"Public Transit\"].sum()\n",
    "KC_walk = KC_metro_data[\"Walking\"].sum()\n",
    "KC_other = KC_metro_data[\"Other Transit\"].sum()\n",
    "\n",
    "STL_solo = STL_metro_data[\"Solo Commuters\"].sum()\n",
    "STL_carpool = STL_metro_data[\"Carpoolers\"].sum()\n",
    "STL_public = STL_metro_data[\"Public Transit\"].sum()\n",
    "STL_walk = STL_metro_data[\"Walking\"].sum()\n",
    "STL_other = STL_metro_data[\"Other Transit\"].sum()\n",
    "\n",
    "SPR_solo = SPR_metro_data[\"Solo Commuters\"].sum()\n",
    "SPR_carpool = SPR_metro_data[\"Carpoolers\"].sum()\n",
    "SPR_public = SPR_metro_data[\"Public Transit\"].sum()\n",
    "SPR_walk = SPR_metro_data[\"Walking\"].sum()\n",
    "SPR_other = SPR_metro_data[\"Other Transit\"].sum()\n",
    "\n",
    "#calculate %s for each commute type for each metro area\n",
    "KC_solo_perc = KC_solo / metro_pop_df[\"Total Commuters\"][\"Kansas City\"] * 100\n",
    "KC_carpool_perc = KC_carpool / metro_pop_df[\"Total Commuters\"][\"Kansas City\"] * 100\n",
    "KC_public_perc = KC_public / metro_pop_df[\"Total Commuters\"][\"Kansas City\"] * 100\n",
    "KC_walk_perc = KC_walk / metro_pop_df[\"Total Commuters\"][\"Kansas City\"] * 100\n",
    "KC_other_perc = KC_other / metro_pop_df[\"Total Commuters\"][\"Kansas City\"] * 100\n",
    "\n",
    "STL_solo_perc = STL_solo / metro_pop_df[\"Total Commuters\"][\"St. Louis\"] * 100\n",
    "STL_carpool_perc = STL_carpool / metro_pop_df[\"Total Commuters\"][\"St. Louis\"] * 100\n",
    "STL_public_perc = STL_public / metro_pop_df[\"Total Commuters\"][\"St. Louis\"] * 100\n",
    "STL_walk_perc = STL_walk / metro_pop_df[\"Total Commuters\"][\"St. Louis\"] * 100\n",
    "STL_other_perc = STL_other / metro_pop_df[\"Total Commuters\"][\"St. Louis\"] * 100\n",
    "\n",
    "SPR_solo_perc = SPR_solo / metro_pop_df[\"Total Commuters\"][\"Springfield\"] * 100\n",
    "SPR_carpool_perc = SPR_carpool / metro_pop_df[\"Total Commuters\"][\"Springfield\"] * 100\n",
    "SPR_public_perc = SPR_public / metro_pop_df[\"Total Commuters\"][\"Springfield\"] * 100\n",
    "SPR_walk_perc = SPR_walk / metro_pop_df[\"Total Commuters\"][\"Springfield\"] * 100\n",
    "SPR_other_perc = SPR_other / metro_pop_df[\"Total Commuters\"][\"Springfield\"] * 100\n",
    "\n",
    "#create metro commute types table\n",
    "metro_commute_df = pd.DataFrame([{\"City\": \"Kansas City\", \n",
    "                                  \"Solo Commuters\": KC_solo, \"Solo Commuter %\": KC_solo_perc, \n",
    "                                  \"Carpoolers\": KC_carpool, \"Carpooler %\": KC_carpool_perc, \n",
    "                                  \"Public Transit\": KC_public, \"Public Transit %\": KC_public_perc, \n",
    "                                  \"Walking\": KC_walk, \"Walking %\": KC_walk_perc, \n",
    "                                  \"Other Transit\": KC_other, \"Other Transit %\": KC_other_perc}, \n",
    "                                 {\"City\": \"St. Louis\", \n",
    "                                  \"Solo Commuters\": STL_solo, \"Solo Commuter %\": STL_solo_perc, \n",
    "                                  \"Carpoolers\": STL_carpool, \"Carpooler %\": STL_carpool_perc, \n",
    "                                  \"Public Transit\": STL_public, \"Public Transit %\": STL_public_perc, \n",
    "                                  \"Walking\": STL_walk, \"Walking %\": STL_walk_perc, \n",
    "                                  \"Other Transit\": STL_other, \"Other Transit %\": STL_other_perc}, \n",
    "                                 {\"City\": \"Springfield\", \n",
    "                                  \"Solo Commuters\": SPR_solo, \"Solo Commuter %\": SPR_solo_perc, \n",
    "                                  \"Carpoolers\": SPR_carpool, \"Carpooler %\": SPR_carpool_perc, \n",
    "                                  \"Public Transit\": SPR_public, \"Public Transit %\": SPR_public_perc, \n",
    "                                  \"Walking\": SPR_walk, \"Walking %\": SPR_walk_perc, \n",
    "                                  \"Other Transit\": SPR_other, \"Other Transit %\": SPR_other_perc}])\n",
    "\n",
    "#table formatting\n",
    "metro_commute_df = metro_commute_df.set_index(\"City\")\n",
    "metro_commute_df = metro_commute_df[[\"Solo Commuters\", \"Solo Commuter %\", \"Carpoolers\", \"Carpooler %\", \n",
    "                                     \"Public Transit\", \"Public Transit %\", \"Walking\", \"Walking %\", \n",
    "                                     \"Other Transit\", \"Other Transit %\"]]\n",
    "metro_commute_df"
   ]
  },
  {
   "cell_type": "code",
   "execution_count": 9,
   "metadata": {},
   "outputs": [
    {
     "data": {
      "text/html": [
       "<div>\n",
       "<style scoped>\n",
       "    .dataframe tbody tr th:only-of-type {\n",
       "        vertical-align: middle;\n",
       "    }\n",
       "\n",
       "    .dataframe tbody tr th {\n",
       "        vertical-align: top;\n",
       "    }\n",
       "\n",
       "    .dataframe thead th {\n",
       "        text-align: right;\n",
       "    }\n",
       "</style>\n",
       "<table border=\"1\" class=\"dataframe\">\n",
       "  <thead>\n",
       "    <tr style=\"text-align: right;\">\n",
       "      <th></th>\n",
       "      <th>Solo Commuter %</th>\n",
       "      <th>Carpooler %</th>\n",
       "      <th>Public Transit %</th>\n",
       "      <th>Walking %</th>\n",
       "      <th>Other Transit %</th>\n",
       "    </tr>\n",
       "    <tr>\n",
       "      <th>City</th>\n",
       "      <th></th>\n",
       "      <th></th>\n",
       "      <th></th>\n",
       "      <th></th>\n",
       "      <th></th>\n",
       "    </tr>\n",
       "  </thead>\n",
       "  <tbody>\n",
       "    <tr>\n",
       "      <th>Kansas City</th>\n",
       "      <td>83.408309</td>\n",
       "      <td>8.487235</td>\n",
       "      <td>1.077526</td>\n",
       "      <td>1.316418</td>\n",
       "      <td>1.071526</td>\n",
       "    </tr>\n",
       "    <tr>\n",
       "      <th>St. Louis</th>\n",
       "      <td>82.840714</td>\n",
       "      <td>7.378398</td>\n",
       "      <td>2.707096</td>\n",
       "      <td>1.612603</td>\n",
       "      <td>1.114144</td>\n",
       "    </tr>\n",
       "    <tr>\n",
       "      <th>Springfield</th>\n",
       "      <td>81.575667</td>\n",
       "      <td>10.134089</td>\n",
       "      <td>0.470821</td>\n",
       "      <td>1.924182</td>\n",
       "      <td>1.665157</td>\n",
       "    </tr>\n",
       "  </tbody>\n",
       "</table>\n",
       "</div>"
      ],
      "text/plain": [
       "             Solo Commuter %  Carpooler %  Public Transit %  Walking %  \\\n",
       "City                                                                     \n",
       "Kansas City        83.408309     8.487235          1.077526   1.316418   \n",
       "St. Louis          82.840714     7.378398          2.707096   1.612603   \n",
       "Springfield        81.575667    10.134089          0.470821   1.924182   \n",
       "\n",
       "             Other Transit %  \n",
       "City                          \n",
       "Kansas City         1.071526  \n",
       "St. Louis           1.114144  \n",
       "Springfield         1.665157  "
      ]
     },
     "execution_count": 9,
     "metadata": {},
     "output_type": "execute_result"
    }
   ],
   "source": [
    "#isolate %s\n",
    "metro_commute_percs = metro_commute_df[[\"Solo Commuter %\", \"Carpooler %\", \"Public Transit %\", \"Walking %\", \"Other Transit %\"]]\n",
    "metro_commute_percs"
   ]
  },
  {
   "cell_type": "markdown",
   "metadata": {},
   "source": [
    "## Plot Commute Type % by Metro Area"
   ]
  },
  {
   "cell_type": "code",
   "execution_count": 10,
   "metadata": {},
   "outputs": [
    {
     "data": {
      "image/png": "[encoded data removed]",
      "text/plain": [
       "<Figure size 432x288 with 1 Axes>"
      ]
     },
     "metadata": {
      "needs_background": "light"
     },
     "output_type": "display_data"
    }
   ],
   "source": [
    "#list commute types\n",
    "commute_types = [\"Solo Commuters\", \"Carpoolers\", \"Public Transit\", \"Walking\", \"Other Transit\"]\n",
    "#set #s for x axis\n",
    "x_axis = np.arange(0, 5)\n",
    "\n",
    "#locate commute type %s for each metro area\n",
    "KC_percs = metro_commute_percs.loc[\"Kansas City\", :]\n",
    "STL_percs = metro_commute_percs.loc[\"St. Louis\", :]\n",
    "SPR_percs = metro_commute_percs.loc[\"Springfield\", :]\n",
    "\n",
    "#create metro commute type graph\n",
    "metro_commute_plot = plt.figure()\n",
    "metro_commutes = plt.subplot()\n",
    "\n",
    "#plot each metro area's %s\n",
    "KC_plot = metro_commutes.bar(x_axis-.3, KC_percs, width = .3, color = \"forestgreen\", label = \"Kansas City\")\n",
    "STL_plot = metro_commutes.bar(x_axis, STL_percs, width = .3, color = \"firebrick\", label = \"St. Louis\")\n",
    "SPR_plot = metro_commutes.bar(x_axis+.3, SPR_percs, width = .3, color = \"lightseagreen\", label = \"Springfield\")\n",
    "\n",
    "#graph formatting\n",
    "plt.legend(loc = \"best\")\n",
    "plt.xticks(x_axis, commute_types)\n",
    "plt.title(\"Missouri Metro Areas: Commute Type %\")\n",
    "plt.xlabel(\"Commute Type\")\n",
    "plt.ylabel(\"% of Total Commuters\")\n",
    "plt.tight_layout()\n",
    "\n",
    "#export figure\n",
    "metro_commute_plot.savefig(\"..\\Output\\MO metro areas commute type.png\", bbox_inches=\"tight\")"
   ]
  },
  {
   "cell_type": "code",
   "execution_count": 11,
   "metadata": {},
   "outputs": [
    {
     "data": {
      "image/png": "[encoded data removed]",
      "text/plain": [
       "<Figure size 432x288 with 1 Axes>"
      ]
     },
     "metadata": {
      "needs_background": "light"
     },
     "output_type": "display_data"
    }
   ],
   "source": [
    "#list commute types\n",
    "commute_types = [\"Solo Commuters\", \"Carpoolers\", \"Public Transit\", \"Walking\", \"Other Transit\"]\n",
    "#set #s for x axis\n",
    "x_axis = np.arange(0, 5)\n",
    "\n",
    "#locate commute type %s for each metro area\n",
    "KC_percs = metro_commute_percs.loc[\"Kansas City\", :]\n",
    "STL_percs = metro_commute_percs.loc[\"St. Louis\", :]\n",
    "SPR_percs = metro_commute_percs.loc[\"Springfield\", :]\n",
    "\n",
    "#create metro commute type graph\n",
    "metro_commute_plot = plt.figure()\n",
    "metro_commutes = plt.subplot()\n",
    "\n",
    "#plot each metro area's %s\n",
    "KC_plot = metro_commutes.bar(x_axis-.3, KC_percs, width = .3, label = \"Kansas City\")\n",
    "STL_plot = metro_commutes.bar(x_axis, STL_percs, width = .3, label = \"St. Louis\")\n",
    "SPR_plot = metro_commutes.bar(x_axis+.3, SPR_percs, width = .3, label = \"Springfield\")\n",
    "\n",
    "#graph formatting\n",
    "plt.legend(loc = \"best\")\n",
    "plt.xticks(x_axis, commute_types)\n",
    "plt.title(\"Missouri MSA Commuting Types\")\n",
    "plt.xlabel(\"Commute Type\")\n",
    "plt.ylabel(\"% of Total Commuters\")\n",
    "plt.tight_layout()\n",
    "\n",
    "#export figure\n",
    "metro_commute_plot.savefig(\"..\\Output\\MO metro areas commute type Default Colors.png\", bbox_inches=\"tight\")"
   ]
  },
  {
   "cell_type": "markdown",
   "metadata": {},
   "source": [
    "## Statistical Analysis - ANOVA & T-Tests"
   ]
  },
  {
   "cell_type": "code",
   "execution_count": null,
   "metadata": {},
   "outputs": [],
   "source": [
    "#anova analysis on each metro area's numerical columns\n",
    "anova_metro = stats.f_oneway(KC_metro_data.iloc[:, 3:15], STL_metro_data.iloc[:, 3:15], SPR_metro_data.iloc[:, 3:15])\n",
    "anova_metro"
   ]
  },
  {
   "cell_type": "markdown",
   "metadata": {},
   "source": [
    "### Commuter %, Carpool %, and Other Transit % have p-values < .05"
   ]
  },
  {
   "cell_type": "code",
   "execution_count": null,
   "metadata": {},
   "outputs": [],
   "source": [
    "#run t-tests for each city pair for each sig diff category\n",
    "print(stats.ttest_ind(KC_metro_data[\"Commuter %\"], STL_metro_data[\"Commuter %\"], equal_var=False))\n",
    "print(stats.ttest_ind(KC_metro_data[\"Commuter %\"], SPR_metro_data[\"Commuter %\"], equal_var=False))\n",
    "print(stats.ttest_ind(STL_metro_data[\"Commuter %\"], SPR_metro_data[\"Commuter %\"], equal_var=False))\n",
    "print(\"----\")\n",
    "print(stats.ttest_ind(KC_metro_data[\"Carpooler %\"], STL_metro_data[\"Carpooler %\"], equal_var=False))\n",
    "print(stats.ttest_ind(KC_metro_data[\"Carpooler %\"], SPR_metro_data[\"Carpooler %\"], equal_var=False))\n",
    "print(stats.ttest_ind(STL_metro_data[\"Carpooler %\"], SPR_metro_data[\"Carpooler %\"], equal_var=False))\n",
    "print(\"----\")\n",
    "print(stats.ttest_ind(KC_metro_data[\"Other Transit %\"], STL_metro_data[\"Other Transit %\"], equal_var=False))\n",
    "print(stats.ttest_ind(KC_metro_data[\"Other Transit %\"], SPR_metro_data[\"Other Transit %\"], equal_var=False))\n",
    "print(stats.ttest_ind(STL_metro_data[\"Other Transit %\"], SPR_metro_data[\"Other Transit %\"], equal_var=False))"
   ]
  },
  {
   "cell_type": "markdown",
   "metadata": {},
   "source": [
    "### Only KC and STL Carpooler % have p-value < .05"
   ]
  }
 ],
 "metadata": {
  "kernelspec": {
   "display_name": "Python 3",
   "language": "python",
   "name": "python3"
  },
  "language_info": {
   "codemirror_mode": {
    "name": "ipython",
    "version": 3
   },
   "file_extension": ".py",
   "mimetype": "text/x-python",
   "name": "python",
   "nbconvert_exporter": "python",
   "pygments_lexer": "ipython3",
   "version": "3.6.6"
  }
 },
 "nbformat": 4,
 "nbformat_minor": 2
}
