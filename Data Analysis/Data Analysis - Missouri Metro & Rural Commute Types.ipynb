{
 "cells": [
  {
   "cell_type": "code",
   "execution_count": 5,
   "metadata": {},
   "outputs": [
    {
     "ename": "ModuleNotFoundError",
     "evalue": "No module named 'us'",
     "output_type": "error",
     "traceback": [
      "\u001b[1;31m---------------------------------------------------------------------------\u001b[0m",
      "\u001b[1;31mModuleNotFoundError\u001b[0m                       Traceback (most recent call last)",
      "\u001b[1;32m<ipython-input-5-655b7ce02ec8>\u001b[0m in \u001b[0;36m<module>\u001b[1;34m()\u001b[0m\n\u001b[0;32m      6\u001b[0m \u001b[1;32mimport\u001b[0m \u001b[0mrequests\u001b[0m\u001b[1;33m\u001b[0m\u001b[0m\n\u001b[0;32m      7\u001b[0m \u001b[1;32mfrom\u001b[0m \u001b[0mcensus\u001b[0m \u001b[1;32mimport\u001b[0m \u001b[0mCensus\u001b[0m\u001b[1;33m\u001b[0m\u001b[0m\n\u001b[1;32m----> 8\u001b[1;33m \u001b[1;32mfrom\u001b[0m \u001b[0mus\u001b[0m \u001b[1;32mimport\u001b[0m \u001b[0mstates\u001b[0m\u001b[1;33m\u001b[0m\u001b[0m\n\u001b[0m",
      "\u001b[1;31mModuleNotFoundError\u001b[0m: No module named 'us'"
     ]
    }
   ],
   "source": [
    "% matplotlib inline\n",
    "#importing dependencies\n",
    "import numpy as np\n",
    "import pandas as pd\n",
    "import matplotlib.pyplot as plt\n",
    "import requests\n",
    "from census import Census\n",
    "from us import states "
   ]
  },
  {
   "cell_type": "code",
   "execution_count": null,
   "metadata": {},
   "outputs": [],
   "source": [
    "county_data = pd.read_csv(\"../Resources/county_commute_data.csv\")"
   ]
  },
  {
   "cell_type": "code",
   "execution_count": null,
   "metadata": {},
   "outputs": [],
   "source": [
    "county_data.head()"
   ]
  },
  {
   "cell_type": "code",
   "execution_count": null,
   "metadata": {},
   "outputs": [],
   "source": [
    "#creating groupby object for further analysis\n",
    "metro_rural_group = county_data.groupby('Metro/Rural')"
   ]
  },
  {
   "cell_type": "code",
   "execution_count": null,
   "metadata": {},
   "outputs": [],
   "source": [
    "metro_rural_group.count().head()"
   ]
  },
  {
   "cell_type": "code",
   "execution_count": null,
   "metadata": {},
   "outputs": [],
   "source": [
    "#basic calculations\n",
    "mr_total_population = metro_rural_group['Total Population'].sum()\n",
    "mr_total_commuters = metro_rural_group[\"Total Commuters\"].sum()\n",
    "mr_commuter_pct = mr_total_commuters/mr_total_population * 100 \n",
    "mr_total_solo_commuters = metro_rural_group['Solo Commuters'].sum()\n",
    "mr_solo_commuters_pct = mr_total_solo_commuters/mr_total_commuters * 100\n",
    "mr_total_carpoolers = metro_rural_group['Carpoolers'].sum()\n",
    "mr_carpoolers_pct = mr_total_carpoolers/mr_total_commuters * 100\n",
    "mr_total_public = metro_rural_group['Public Transit'].sum()\n",
    "mr_public_pct = mr_total_public/mr_total_commuters * 100 \n",
    "mr_total_walking = metro_rural_group['Walking'].sum()\n",
    "mr_total_walking_pct = mr_total_walking/mr_total_commuters * 100 \n",
    "mr_total_other = metro_rural_group['Other Transit'].sum()\n",
    "mr_other_pct = mr_total_other/mr_total_commuters * 100 "
   ]
  },
  {
   "cell_type": "code",
   "execution_count": null,
   "metadata": {},
   "outputs": [],
   "source": [
    "metro_rural_df = pd.DataFrame({\"Total Population\": mr_total_population,\n",
    "                              \"Total Commuters\": mr_total_commuters,\n",
    "                              \"Commuter %\": mr_commuter_pct,\n",
    "                              \"Solo Commuters\": mr_total_solo_commuters,\n",
    "                              \"Solo Commuters %\": mr_solo_commuters_pct,\n",
    "                              \"Carpoolers\": mr_total_carpoolers,\n",
    "                              \"Carpoolers %\": mr_carpoolers_pct,\n",
    "                              \"Public Transit\": mr_total_public,\n",
    "                              \"Public Transit %\": mr_public_pct,\n",
    "                              \"Walking\": mr_total_walking,\n",
    "                              \"Walking %\": mr_total_walking_pct,\n",
    "                              \"Other Transit\": mr_total_other,\n",
    "                              \"Other Transit %\": mr_other_pct})"
   ]
  },
  {
   "cell_type": "code",
   "execution_count": null,
   "metadata": {},
   "outputs": [],
   "source": [
    "#displaying Metro vs. Rural DataFrame \n",
    "metro_rural_df"
   ]
  },
  {
   "cell_type": "code",
   "execution_count": null,
   "metadata": {},
   "outputs": [],
   "source": []
  },
  {
   "cell_type": "code",
   "execution_count": null,
   "metadata": {},
   "outputs": [],
   "source": [
    "rural_df = metro_rural_df.drop(['Metro'])\n"
   ]
  },
  {
   "cell_type": "code",
   "execution_count": null,
   "metadata": {},
   "outputs": [],
   "source": [
    "rural_df"
   ]
  },
  {
   "cell_type": "code",
   "execution_count": null,
   "metadata": {},
   "outputs": [],
   "source": [
    "metro_df = metro_rural_df.drop(['Rural'])"
   ]
  },
  {
   "cell_type": "code",
   "execution_count": null,
   "metadata": {},
   "outputs": [],
   "source": [
    "metro_df"
   ]
  },
  {
   "cell_type": "code",
   "execution_count": null,
   "metadata": {},
   "outputs": [],
   "source": [
    "commute_types = ['Solo Commuter %', 'Carpooler %','Public Transit %', 'Walking %','Other Transit %']\n",
    "commute_numbers = []\n",
    "commute_numbers.append(rural_df['Solo Commuters'])\n",
    "commute_numbers.append(rural_df['Carpoolers'])\n",
    "commute_numbers.append(rural_df['Public Transit'])\n",
    "commute_numbers.append(rural_df['Walking'])\n",
    "commute_numbers.append(rural_df['Other Transit'])"
   ]
  },
  {
   "cell_type": "code",
   "execution_count": null,
   "metadata": {},
   "outputs": [],
   "source": [
    "plt.pie(commute_numbers, labels=commute_types, shadow=True, startangle=180, autopct='%1.0f%%', pctdistance=1.2, wedgeprops = {'linewidth':.5,'edgecolor':'black'})\n",
    "plt.axis('equal')\n",
    "\n",
    "plt.axis(\"equal\")\n",
    "plt.title(\"Missouri Rural County Commuting Types\")\n",
    "plt.legend(labels = [\"Solo Commuter\", \"Carpooler\", \"Public Transit\", \"Walking\", \"Other Transit\"], loc=\"lower right\")\n",
    "plt.tight_layout()\n",
    "\n",
    "#plot commute type %s\n",
    "#MO_commutes.pie(MO_commute_type_percs, startangle = 200, autopct='%1.0f%%', pctdistance=1.2, wedgeprops = {'linewidth':.5,'edgecolor':'black'})\n",
    "#formatting\n",
    "\n",
    "\n",
    "\n",
    "\n",
    "#export figure\n",
    "#plt.savefig(\"../Output/MO_rural_commute_types_pie.png\")\n",
    "\n",
    "\n",
    "\n",
    "\n",
    "# SES Work on labels to show wedge percentages\n",
    "\n",
    "# #create MO commute type graph\n",
    "# MO_commute_plot = plt.figure()\n",
    "# MO_commutes = plt.subplot()\n",
    "\n",
    "# #set list of commute types with %\n",
    "# commute_type_percs = [\"Solo Commuter %\", \"Carpooler %\", \"Public Transit %\", \"Walking %\", \"Other Transit %\"]\n",
    "\n",
    "# #set empty list for commute type %s\n",
    "# MO_commute_type_percs = []\n",
    "\n",
    "# #fill commute type %s list\n",
    "# for commute_type in commute_type_percs:\n",
    "#     MO_commute_type_percs.append(MO_commute_df[commute_type])\n",
    "    \n",
    "# #plot commute type %s\n",
    "# MO_commutes.pie(MO_commute_type_percs, startangle = 200, autopct='%1.0f%%', pctdistance=1.2, wedgeprops = {'linewidth':.5,'edgecolor':'black'})\n",
    "# #formatting\n",
    "# plt.legend(labels = [\"Solo Commuter\", \"Carpooler\", \"Public Transit\", \"Walking\", \"Other Transit\"], loc=\"lower right\")\n",
    "# plt.axis(\"equal\")\n",
    "# plt.title(\"Missouri Commuting Types\")\n",
    "# plt.tight_layout()\n",
    "\n",
    "# #export figure\n",
    "# MO_commute_plot.savefig(\"..\\Output\\MO Commuting Types Legend.png\", bbox_inches=\"tight\")\n"
   ]
  },
  {
   "cell_type": "code",
   "execution_count": null,
   "metadata": {},
   "outputs": [],
   "source": [
    "metro_rural_commute_percs = metro_rural_df[[\"Solo Commuters %\", \"Carpoolers %\", \"Public Transit %\", \"Walking %\", \"Other Transit %\"]]\n",
    "metro_rural_commute_percs"
   ]
  },
  {
   "cell_type": "code",
   "execution_count": null,
   "metadata": {},
   "outputs": [],
   "source": [
    "rural_percs = metro_rural_commute_percs.loc[\"Rural\", :]\n",
    "metro_percs = metro_rural_commute_percs.loc[\"Metro\", :]\n"
   ]
  },
  {
   "cell_type": "code",
   "execution_count": null,
   "metadata": {},
   "outputs": [],
   "source": [
    "#list commute types\n",
    "commute_types = [\"Solo Commuters\", \"Carpoolers\", \"Public Transit\", \"Walking\", \"Other Transit\"]\n",
    "#set #s for x axis\n",
    "x_axis = np.arange(0, 5)\n",
    "\n",
    "#locate commute type %s for metro/rural counties\n",
    "rural_percs = metro_rural_commute_percs.loc[\"Rural\", :]\n",
    "metro_percs = metro_rural_commute_percs.loc[\"Metro\", :]\n",
    "\n",
    "\n",
    "#create metro/rural commute type graph\n",
    "metro_rural_commute_plot = plt.figure()\n",
    "metro_rural_commutes = plt.subplot()\n",
    "\n",
    "#plot each metro area's %s\n",
    "rural_plot = metro_rural_commutes.bar(x_axis-.3, rural_percs, width = .3, color = \"forestgreen\", label = \"Rural\")\n",
    "metro_plot = metro_rural_commutes.bar(x_axis, metro_percs, width = .3, color = \"firebrick\", label = \"Metro\")\n",
    "\n",
    "\n",
    "#graph formatting\n",
    "plt.legend(loc = \"best\")\n",
    "plt.xticks(x_axis, commute_types)\n",
    "plt.title(\"Missouri Metro vs Rural Counties: Commute Type %\")\n",
    "plt.xlabel(\"Commute Type\")\n",
    "plt.ylabel(\"% of Total Commuters\")\n",
    "plt.tight_layout()\n",
    "\n",
    "#export figure\n",
    "metro_rural_commute_plot.savefig(\"..\\Output\\MO_metro_vs_Rural_Counties_bar.png\")"
   ]
  },
  {
   "cell_type": "code",
   "execution_count": null,
   "metadata": {},
   "outputs": [],
   "source": []
  }
 ],
 "metadata": {
  "kernelspec": {
   "display_name": "Python 3",
   "language": "python",
   "name": "python3"
  },
  "language_info": {
   "codemirror_mode": {
    "name": "ipython",
    "version": 3
   },
   "file_extension": ".py",
   "mimetype": "text/x-python",
   "name": "python",
   "nbconvert_exporter": "python",
   "pygments_lexer": "ipython3",
   "version": "3.6.6"
  }
 },
 "nbformat": 4,
 "nbformat_minor": 2
}
